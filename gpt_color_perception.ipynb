{
 "cells": [
  {
   "cell_type": "markdown",
   "metadata": {},
   "source": [
    "### Setup"
   ]
  },
  {
   "cell_type": "code",
   "execution_count": 2,
   "metadata": {},
   "outputs": [],
   "source": [
    "import os\n",
    "import openai\n",
    "import numpy as np\n",
    "from tqdm.notebook import tqdm\n",
    "\n",
    "# set up openai api key\n",
    "api_key_location=os.path.expanduser(os.path.join(\"~/.ssh/\", \"openai\")) \n",
    "with open(api_key_location) as f:\n",
    "    openai.api_key = f.read().strip()"
   ]
  },
  {
   "cell_type": "markdown",
   "metadata": {},
   "source": [
    "### Generate prompts"
   ]
  },
  {
   "cell_type": "code",
   "execution_count": null,
   "metadata": {},
   "outputs": [
    {
     "name": "stdout",
     "output_type": "stream",
     "text": [
      "What color is the following hex code? Reply with one word only.\n",
      "Color 1: #000000\n",
      "\n",
      "[{'role': 'user', 'content': 'What color is the following hex code? Reply with one word only.\\nColor 1: #000000\\n'}]\n"
     ]
    }
   ],
   "source": [
    "# generate_chat_prompt will take as input a tuple of indices corresponding to concepts in `labels`\n",
    "def generate_prompt(color):\n",
    "    prompt = f\"\"\"What color is the following hex code? Reply with one word only.\\n\"\"\"\n",
    "    prompt += f'''Color 1: {color}\\n'''\n",
    "    return prompt\n",
    "\n",
    "# Let's try an example\n",
    "color=\"#000000\"\n",
    "prompt=generate_prompt(color)\n",
    "print(prompt)\n",
    "messages=[{\"role\":\"user\", \"content\":prompt}]\n",
    "print(messages)"
   ]
  },
  {
   "cell_type": "markdown",
   "metadata": {},
   "source": [
    "### Configure GPT"
   ]
  },
  {
   "cell_type": "code",
   "execution_count": 2,
   "metadata": {},
   "outputs": [],
   "source": [
    "temperature = 0.7 # default temperature setting\n",
    "model = \"gpt-3.5-turbo\"\n",
    "seed = 1"
   ]
  },
  {
   "cell_type": "markdown",
   "metadata": {},
   "source": [
    "### Collect GPT Responses\n"
   ]
  },
  {
   "cell_type": "code",
   "execution_count": 3,
   "metadata": {},
   "outputs": [],
   "source": [
    "def openai_chat_completion(messages, model, temperature):\n",
    "    response=False\n",
    "    i=0\n",
    "    while not response:\n",
    "        i+=1\n",
    "        try:\n",
    "                response = openai.ChatCompletion.create(\n",
    "                    model=model,\n",
    "                    messages=messages,\n",
    "                    temperature=temperature,\n",
    "                )\n",
    "        except Exception as e:\n",
    "            if i>=5: #if error persis after 5 attempts, give up\n",
    "                return False, False\n",
    "            if i>=4:\n",
    "                print(f'Attempt {i} failed: {e}')\n",
    "            elif i>=3: print(f'Attempt {i} failed.')\n",
    "            time.sleep(5) # wait before pinging the API again in case error is due to rate limit\n",
    "    choices = [dict(choice.items()) for choice in response.choices]\n",
    "    return choices, response.created"
   ]
  },
  {
   "cell_type": "code",
   "execution_count": 4,
   "metadata": {},
   "outputs": [],
   "source": [
    "# get list of colors from txt file\n",
    "file = open('colors.txt', 'r')\n",
    "colors = file.read().splitlines()\n",
    "file.close()"
   ]
  },
  {
   "cell_type": "code",
   "execution_count": 5,
   "metadata": {},
   "outputs": [
    {
     "ename": "NameError",
     "evalue": "name 'tqdm' is not defined",
     "output_type": "error",
     "traceback": [
      "\u001b[0;31m---------------------------------------------------------------------------\u001b[0m",
      "\u001b[0;31mNameError\u001b[0m                                 Traceback (most recent call last)",
      "\u001b[1;32m/Users/taylory/Desktop/*PSY 360/psy360-final-project/gpt_color_perception.ipynb Cell 10\u001b[0m line \u001b[0;36m4\n\u001b[1;32m      <a href='vscode-notebook-cell:/Users/taylory/Desktop/%2APSY%20360/psy360-final-project/gpt_color_perception.ipynb#X11sZmlsZQ%3D%3D?line=0'>1</a>\u001b[0m responses \u001b[39m=\u001b[39m []\n\u001b[1;32m      <a href='vscode-notebook-cell:/Users/taylory/Desktop/%2APSY%20360/psy360-final-project/gpt_color_perception.ipynb#X11sZmlsZQ%3D%3D?line=1'>2</a>\u001b[0m visited_pairs\u001b[39m=\u001b[39m[]\n\u001b[0;32m----> <a href='vscode-notebook-cell:/Users/taylory/Desktop/%2APSY%20360/psy360-final-project/gpt_color_perception.ipynb#X11sZmlsZQ%3D%3D?line=3'>4</a>\u001b[0m \u001b[39mfor\u001b[39;00m i, color \u001b[39min\u001b[39;00m \u001b[39menumerate\u001b[39m(tqdm(colors)):\n\u001b[1;32m      <a href='vscode-notebook-cell:/Users/taylory/Desktop/%2APSY%20360/psy360-final-project/gpt_color_perception.ipynb#X11sZmlsZQ%3D%3D?line=4'>5</a>\u001b[0m     prompt \u001b[39m=\u001b[39m generate_prompt(color)\n\u001b[1;32m      <a href='vscode-notebook-cell:/Users/taylory/Desktop/%2APSY%20360/psy360-final-project/gpt_color_perception.ipynb#X11sZmlsZQ%3D%3D?line=5'>6</a>\u001b[0m     response\u001b[39m=\u001b[39m\u001b[39mFalse\u001b[39;00m\n",
      "\u001b[0;31mNameError\u001b[0m: name 'tqdm' is not defined"
     ]
    }
   ],
   "source": [
    "responses = []\n",
    "visited_pairs=[]\n",
    "\n",
    "for i, color in enumerate(tqdm(colors)):\n",
    "    prompt = generate_prompt(color)\n",
    "    response=False\n",
    "    answer=False\n",
    "    attempt=0\n",
    "    while not answer:\n",
    "        attempt+=1\n",
    "        messages=[{'role':'user', 'content':prompt}]\n",
    "        choices,created=openai_chat_completion(messages, model, temperature)\n",
    "        try:\n",
    "            answer = choices[0]['message']['content'].strip().split()[0]\n",
    "            responses.append(answer)\n",
    "            \n",
    "        #In case we fail to parse out an answer 10 times in a row, we skip that entry\n",
    "        except Exception as e: \n",
    "            print(answer)\n",
    "            print(e)\n",
    "            answer=False\n",
    "            if attempt>10:\n",
    "                print('Error', e)"
   ]
  },
  {
   "cell_type": "markdown",
   "metadata": {},
   "source": [
    "### Analyze the data"
   ]
  },
  {
   "cell_type": "markdown",
   "metadata": {},
   "source": []
  }
 ],
 "metadata": {
  "kernelspec": {
   "display_name": "taylory-E5piFvX3",
   "language": "python",
   "name": "python3"
  },
  "language_info": {
   "codemirror_mode": {
    "name": "ipython",
    "version": 3
   },
   "file_extension": ".py",
   "mimetype": "text/x-python",
   "name": "python",
   "nbconvert_exporter": "python",
   "pygments_lexer": "ipython3",
   "version": "3.11.5"
  }
 },
 "nbformat": 4,
 "nbformat_minor": 2
}
