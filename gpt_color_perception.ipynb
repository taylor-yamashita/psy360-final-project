{
 "cells": [
  {
   "cell_type": "markdown",
   "metadata": {},
   "source": [
    "### Setup"
   ]
  },
  {
   "cell_type": "code",
   "execution_count": 36,
   "metadata": {},
   "outputs": [],
   "source": [
    "import os\n",
    "import openai\n",
    "import numpy as np\n",
    "from tqdm import tqdm\n",
    "import time\n",
    "\n",
    "# set up openai api key\n",
    "api_key_location=os.path.expanduser(os.path.join(\"~/.ssh/\", \"openai\")) \n",
    "with open(api_key_location) as f:\n",
    "    openai.api_key = f.read().strip()"
   ]
  },
  {
   "cell_type": "markdown",
   "metadata": {},
   "source": [
    "### Generate prompts (English)"
   ]
  },
  {
   "cell_type": "code",
   "execution_count": 31,
   "metadata": {},
   "outputs": [
    {
     "name": "stdout",
     "output_type": "stream",
     "text": [
      "Please name the following color using one word only.\n",
      "Color 1: #000000\n",
      "\n",
      "[{'role': 'user', 'content': 'Please name the following color using one word only.\\nColor 1: #000000\\n'}]\n"
     ]
    }
   ],
   "source": [
    "# generate_chat_prompt will take as input a tuple of indices corresponding to concepts in `labels`\n",
    "def generate_prompt_eng(color):\n",
    "    prompt = f\"\"\"Please name the following color using one word only.\\n\"\"\"\n",
    "    prompt += f'''Color 1: {color}\\n'''\n",
    "    return prompt\n",
    "\n",
    "# try an example\n",
    "color=\"#000000\"\n",
    "prompt=generate_prompt_eng(color)\n",
    "print(prompt)\n",
    "messages=[{\"role\":\"user\", \"content\":prompt}]\n",
    "print(messages)"
   ]
  },
  {
   "cell_type": "markdown",
   "metadata": {},
   "source": [
    "### Generate prompts (Japanese)"
   ]
  },
  {
   "cell_type": "code",
   "execution_count": 41,
   "metadata": {},
   "outputs": [
    {
     "name": "stdout",
     "output_type": "stream",
     "text": [
      "この色を一言で表現してください。\n",
      "色 1: #000000\n",
      "\n",
      "[{'role': 'user', 'content': 'この色を一言で表現してください。\\n色 1: #000000\\n'}]\n"
     ]
    }
   ],
   "source": [
    "# generate_chat_prompt will take as input a tuple of indices corresponding to concepts in `labels`\n",
    "def generate_prompt_jp(color):\n",
    "    prompt = f\"\"\"この色を一言で表現してください。\\n\"\"\"\n",
    "    prompt += f'''色 1: {color}\\n'''\n",
    "    return prompt\n",
    "\n",
    "# try an example\n",
    "color=\"#000000\"\n",
    "prompt=generate_prompt_jp(color)\n",
    "print(prompt)\n",
    "messages=[{\"role\":\"user\", \"content\":prompt}]\n",
    "print(messages)"
   ]
  },
  {
   "cell_type": "markdown",
   "metadata": {},
   "source": [
    "### Configure GPT"
   ]
  },
  {
   "cell_type": "code",
   "execution_count": 32,
   "metadata": {},
   "outputs": [],
   "source": [
    "temperature = 0.7 # default temperature setting\n",
    "model = \"gpt-3.5-turbo\"\n",
    "seed = 1"
   ]
  },
  {
   "cell_type": "markdown",
   "metadata": {},
   "source": [
    "### Collect GPT Responses\n"
   ]
  },
  {
   "cell_type": "code",
   "execution_count": 37,
   "metadata": {},
   "outputs": [],
   "source": [
    "def openai_chat_completion(messages, model, temperature):\n",
    "    completion=False\n",
    "    i=0\n",
    "    while not completion:\n",
    "        i+=1\n",
    "        try:\n",
    "            completion = openai.chat.completions.create(\n",
    "                model=model,\n",
    "                messages=messages,\n",
    "                temperature=temperature,\n",
    "            )\n",
    "        except Exception as e:\n",
    "            if i>=5: # if error persis after 5 attempts, give up\n",
    "                return False, False\n",
    "            if i>=4:\n",
    "                print(f'Attempt {i} failed: {e}')\n",
    "            elif i>=3: print(f'Attempt {i} failed.')\n",
    "            time.sleep(5) # wait before pinging the API again in case error is due to rate limit\n",
    "    choices = [dict(choice.items()) for choice in completion.choices]\n",
    "    return choices, completion.created\n",
    "    # return response"
   ]
  },
  {
   "cell_type": "code",
   "execution_count": 26,
   "metadata": {},
   "outputs": [],
   "source": [
    "# get list of colors from txt file\n",
    "file = open('colors.txt', 'r')\n",
    "colors = file.read().splitlines()\n",
    "file.close()"
   ]
  },
  {
   "cell_type": "markdown",
   "metadata": {},
   "source": [
    "#### Run English Prompts"
   ]
  },
  {
   "cell_type": "code",
   "execution_count": 39,
   "metadata": {},
   "outputs": [],
   "source": [
    "responses = []\n",
    "for i, color in enumerate(tqdm(colors)):\n",
    "    prompt = generate_prompt_eng(color)\n",
    "    response=False\n",
    "    answer=False\n",
    "    attempt=0\n",
    "    while not answer:\n",
    "        attempt += 1\n",
    "        messages=[{'role':'user', 'content':prompt}]\n",
    "        choices, created=openai_chat_completion(messages, model, temperature)\n",
    "\n",
    "        try:\n",
    "            answer = choices[0].message.content\n",
    "            responses.append(answer)\n",
    "            \n",
    "        # if we fail parse out an answer 10 times in a row, skip entry\n",
    "        except Exception as e: \n",
    "            print(answer)\n",
    "            print(e)\n",
    "            answer=False\n",
    "            if attempt>10:\n",
    "                print('Error', e)"
   ]
  },
  {
   "cell_type": "markdown",
   "metadata": {},
   "source": [
    "#### Run Japanese Prompts"
   ]
  },
  {
   "cell_type": "code",
   "execution_count": null,
   "metadata": {},
   "outputs": [],
   "source": [
    "responses = []\n",
    "for i, color in enumerate(tqdm(colors)):\n",
    "    prompt = generate_prompt_jp(color)\n",
    "    response=False\n",
    "    answer=False\n",
    "    attempt=0\n",
    "    while not answer:\n",
    "        attempt += 1\n",
    "        messages=[{'role':'user', 'content':prompt}]\n",
    "        choices, created=openai_chat_completion(messages, model, temperature)\n",
    "\n",
    "        try:\n",
    "            answer = choices[0].message.content\n",
    "            responses.append(answer)\n",
    "            \n",
    "        # if we fail parse out an answer 10 times in a row, skip entry\n",
    "        except Exception as e: \n",
    "            print(answer)\n",
    "            print(e)\n",
    "            answer=False\n",
    "            if attempt>10:\n",
    "                print('Error', e)"
   ]
  },
  {
   "cell_type": "markdown",
   "metadata": {},
   "source": [
    "### Analyze the data"
   ]
  },
  {
   "cell_type": "markdown",
   "metadata": {},
   "source": []
  }
 ],
 "metadata": {
  "kernelspec": {
   "display_name": "taylory-E5piFvX3",
   "language": "python",
   "name": "python3"
  },
  "language_info": {
   "codemirror_mode": {
    "name": "ipython",
    "version": 3
   },
   "file_extension": ".py",
   "mimetype": "text/x-python",
   "name": "python",
   "nbconvert_exporter": "python",
   "pygments_lexer": "ipython3",
   "version": "3.11.5"
  }
 },
 "nbformat": 4,
 "nbformat_minor": 2
}
