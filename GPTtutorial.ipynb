{
 "cells": [
  {
   "cell_type": "markdown",
   "id": "72584ae3-8f1e-4f84-8a43-2295a616e69a",
   "metadata": {},
   "source": [
    "# Tutorial: Using GPT for psychological research"
   ]
  },
  {
   "cell_type": "markdown",
   "id": "93de54d6-ac16-4e81-b05c-6d44d27cdbd2",
   "metadata": {},
   "source": [
    "## Step 1: Install openai API"
   ]
  },
  {
   "cell_type": "code",
   "execution_count": 1,
   "id": "2ea138d5-984e-449b-8d59-8bb06be22fbd",
   "metadata": {},
   "outputs": [
    {
     "name": "stdout",
     "output_type": "stream",
     "text": [
      "Collecting openai\n",
      "  Downloading openai-1.3.8-py3-none-any.whl (221 kB)\n",
      "\u001b[2K     \u001b[90m━━━━━━━━━━━━━━━━━━━━━━━━━━━━━━━━━━━━━━━\u001b[0m \u001b[32m221.5/221.5 kB\u001b[0m \u001b[31m6.9 MB/s\u001b[0m eta \u001b[36m0:00:00\u001b[0m\n",
      "\u001b[?25hRequirement already satisfied: anyio<5,>=3.5.0 in /Users/taylory/.local/share/virtualenvs/taylory-E5piFvX3/lib/python3.11/site-packages (from openai) (4.0.0)\n",
      "Collecting distro<2,>=1.7.0 (from openai)\n",
      "  Downloading distro-1.8.0-py3-none-any.whl (20 kB)\n",
      "Collecting httpx<1,>=0.23.0 (from openai)\n",
      "  Downloading httpx-0.25.2-py3-none-any.whl (74 kB)\n",
      "\u001b[2K     \u001b[90m━━━━━━━━━━━━━━━━━━━━━━━━━━━━━━━━━━━━━━━━\u001b[0m \u001b[32m75.0/75.0 kB\u001b[0m \u001b[31m11.8 MB/s\u001b[0m eta \u001b[36m0:00:00\u001b[0m\n",
      "\u001b[?25hCollecting pydantic<3,>=1.9.0 (from openai)\n",
      "  Downloading pydantic-2.5.2-py3-none-any.whl (381 kB)\n",
      "\u001b[2K     \u001b[90m━━━━━━━━━━━━━━━━━━━━━━━━━━━━━━━━━━━━━━\u001b[0m \u001b[32m381.9/381.9 kB\u001b[0m \u001b[31m17.9 MB/s\u001b[0m eta \u001b[36m0:00:00\u001b[0m\n",
      "\u001b[?25hRequirement already satisfied: sniffio in /Users/taylory/.local/share/virtualenvs/taylory-E5piFvX3/lib/python3.11/site-packages (from openai) (1.3.0)\n",
      "Requirement already satisfied: tqdm>4 in /Users/taylory/.local/share/virtualenvs/taylory-E5piFvX3/lib/python3.11/site-packages (from openai) (4.66.1)\n",
      "Requirement already satisfied: typing-extensions<5,>=4.5 in /Users/taylory/.local/share/virtualenvs/taylory-E5piFvX3/lib/python3.11/site-packages (from openai) (4.9.0)\n",
      "Requirement already satisfied: idna>=2.8 in /Users/taylory/.local/share/virtualenvs/taylory-E5piFvX3/lib/python3.11/site-packages (from anyio<5,>=3.5.0->openai) (3.4)\n",
      "Requirement already satisfied: certifi in /Users/taylory/.local/share/virtualenvs/taylory-E5piFvX3/lib/python3.11/site-packages (from httpx<1,>=0.23.0->openai) (2023.7.22)\n",
      "Collecting httpcore==1.* (from httpx<1,>=0.23.0->openai)\n",
      "  Downloading httpcore-1.0.2-py3-none-any.whl (76 kB)\n",
      "\u001b[2K     \u001b[90m━━━━━━━━━━━━━━━━━━━━━━━━━━━━━━━━━━━━━━━━\u001b[0m \u001b[32m76.9/76.9 kB\u001b[0m \u001b[31m9.9 MB/s\u001b[0m eta \u001b[36m0:00:00\u001b[0m\n",
      "\u001b[?25hCollecting h11<0.15,>=0.13 (from httpcore==1.*->httpx<1,>=0.23.0->openai)\n",
      "  Downloading h11-0.14.0-py3-none-any.whl (58 kB)\n",
      "\u001b[2K     \u001b[90m━━━━━━━━━━━━━━━━━━━━━━━━━━━━━━━━━━━━━━━━\u001b[0m \u001b[32m58.3/58.3 kB\u001b[0m \u001b[31m6.7 MB/s\u001b[0m eta \u001b[36m0:00:00\u001b[0m\n",
      "\u001b[?25hCollecting annotated-types>=0.4.0 (from pydantic<3,>=1.9.0->openai)\n",
      "  Downloading annotated_types-0.6.0-py3-none-any.whl (12 kB)\n",
      "Collecting pydantic-core==2.14.5 (from pydantic<3,>=1.9.0->openai)\n",
      "  Downloading pydantic_core-2.14.5-cp311-cp311-macosx_10_7_x86_64.whl (1.9 MB)\n",
      "\u001b[2K     \u001b[90m━━━━━━━━━━━━━━━━━━━━━━━━━━━━━━━━━━━━━━━━\u001b[0m \u001b[32m1.9/1.9 MB\u001b[0m \u001b[31m24.9 MB/s\u001b[0m eta \u001b[36m0:00:00\u001b[0m00:01\u001b[0m00:01\u001b[0m\n",
      "\u001b[?25hInstalling collected packages: pydantic-core, h11, distro, annotated-types, pydantic, httpcore, httpx, openai\n",
      "Successfully installed annotated-types-0.6.0 distro-1.8.0 h11-0.14.0 httpcore-1.0.2 httpx-0.25.2 openai-1.3.8 pydantic-2.5.2 pydantic-core-2.14.5\n",
      "\n",
      "\u001b[1m[\u001b[0m\u001b[34;49mnotice\u001b[0m\u001b[1;39;49m]\u001b[0m\u001b[39;49m A new release of pip is available: \u001b[0m\u001b[31;49m23.1.2\u001b[0m\u001b[39;49m -> \u001b[0m\u001b[32;49m23.3.1\u001b[0m\n",
      "\u001b[1m[\u001b[0m\u001b[34;49mnotice\u001b[0m\u001b[1;39;49m]\u001b[0m\u001b[39;49m To update, run: \u001b[0m\u001b[32;49mpip install --upgrade pip\u001b[0m\n"
     ]
    }
   ],
   "source": [
    "!pip install openai"
   ]
  },
  {
   "cell_type": "markdown",
   "id": "70a92940-154f-4d18-a4a5-655084115a39",
   "metadata": {},
   "source": [
    "## Step 2: Set up OpenAI account and API key\n",
    "1. If you do not already have one, create a folder for your SSH/API keys (E.g.,`mkdir ~/.ssh`)\n",
    "2. Go to platform.openai.com and create an account\n",
    "3. Once logged in, in the dropdown menu, navigate to 'View API keys' and create a new secret key\n",
    "4. Create a new file in your SSH key folder that contains only the secret key (E.g., `vim ~/.ssh/openai`)"
   ]
  },
  {
   "cell_type": "markdown",
   "id": "d779d2db-db9e-4fb1-aa73-64ecfabce89b",
   "metadata": {},
   "source": [
    "## Step 3: Imports and initialization"
   ]
  },
  {
   "cell_type": "code",
   "execution_count": 2,
   "id": "939eea88-99b4-409e-9bb2-f09d284424f2",
   "metadata": {},
   "outputs": [],
   "source": [
    "import os\n",
    "import openai\n",
    "\n",
    "# Path to your OpenAI API key\n",
    "api_key_location=os.path.expanduser(os.path.join(\"~/.ssh/\", \"openai\")) \n",
    "\n",
    "# Setting up the API key\n",
    "with open(api_key_location) as f:\n",
    "    openai.api_key = f.read().strip()\n",
    "\n"
   ]
  },
  {
   "cell_type": "markdown",
   "id": "6f795c3a-036b-4f2a-b4f8-bdebff46edc9",
   "metadata": {},
   "source": [
    "## Step 4: Generating prompts\n",
    "Here we'll show you a simple application of eliciting relatedness judgments for a set of fruit concepts from a classic dataset by Mervis et al (1975)."
   ]
  },
  {
   "cell_type": "markdown",
   "id": "05636cd4-c031-4dec-bd08-261f08fc3d59",
   "metadata": {},
   "source": [
    "### Step 4A: Load the data\n",
    "Make sure that the data file is located in the same directory (or a subdirectory of the same directory) as this Jupyter notebook."
   ]
  },
  {
   "cell_type": "code",
   "execution_count": 3,
   "id": "32a99b7e-1814-430e-8f98-5c59bc0c49cb",
   "metadata": {},
   "outputs": [
    {
     "ename": "FileNotFoundError",
     "evalue": "[Errno 2] No such file or directory: 'RC/Mervis_1975_similarity.npy'",
     "output_type": "error",
     "traceback": [
      "\u001b[0;31m---------------------------------------------------------------------------\u001b[0m",
      "\u001b[0;31mFileNotFoundError\u001b[0m                         Traceback (most recent call last)",
      "\u001b[1;32m/Users/taylory/Desktop/*PSY 360/psy360-final-project/GPTtutorial.ipynb Cell 9\u001b[0m line \u001b[0;36m4\n\u001b[1;32m      <a href='vscode-notebook-cell:/Users/taylory/Desktop/%2APSY%20360/psy360-final-project/GPTtutorial.ipynb#X11sZmlsZQ%3D%3D?line=0'>1</a>\u001b[0m \u001b[39mimport\u001b[39;00m \u001b[39mnumpy\u001b[39;00m \u001b[39mas\u001b[39;00m \u001b[39mnp\u001b[39;00m\n\u001b[1;32m      <a href='vscode-notebook-cell:/Users/taylory/Desktop/%2APSY%20360/psy360-final-project/GPTtutorial.ipynb#X11sZmlsZQ%3D%3D?line=1'>2</a>\u001b[0m \u001b[39mimport\u001b[39;00m \u001b[39mmatplotlib\u001b[39;00m\u001b[39m.\u001b[39;00m\u001b[39mpyplot\u001b[39;00m \u001b[39mas\u001b[39;00m \u001b[39mplt\u001b[39;00m\n\u001b[0;32m----> <a href='vscode-notebook-cell:/Users/taylory/Desktop/%2APSY%20360/psy360-final-project/GPTtutorial.ipynb#X11sZmlsZQ%3D%3D?line=3'>4</a>\u001b[0m data\u001b[39m=\u001b[39mnp\u001b[39m.\u001b[39;49mload(\u001b[39m'\u001b[39;49m\u001b[39mRC/Mervis_1975_similarity.npy\u001b[39;49m\u001b[39m'\u001b[39;49m, allow_pickle\u001b[39m=\u001b[39;49m\u001b[39m1\u001b[39;49m)\u001b[39m.\u001b[39mitem()\n\u001b[1;32m      <a href='vscode-notebook-cell:/Users/taylory/Desktop/%2APSY%20360/psy360-final-project/GPTtutorial.ipynb#X11sZmlsZQ%3D%3D?line=4'>5</a>\u001b[0m labels\u001b[39m=\u001b[39mdata[\u001b[39m'\u001b[39m\u001b[39mlabels\u001b[39m\u001b[39m'\u001b[39m]\n\u001b[1;32m      <a href='vscode-notebook-cell:/Users/taylory/Desktop/%2APSY%20360/psy360-final-project/GPTtutorial.ipynb#X11sZmlsZQ%3D%3D?line=5'>6</a>\u001b[0m human_simmat \u001b[39m=\u001b[39m data[\u001b[39m'\u001b[39m\u001b[39msimilarity\u001b[39m\u001b[39m'\u001b[39m]\n",
      "File \u001b[0;32m~/.local/share/virtualenvs/taylory-E5piFvX3/lib/python3.11/site-packages/numpy/lib/npyio.py:427\u001b[0m, in \u001b[0;36mload\u001b[0;34m(file, mmap_mode, allow_pickle, fix_imports, encoding, max_header_size)\u001b[0m\n\u001b[1;32m    425\u001b[0m     own_fid \u001b[39m=\u001b[39m \u001b[39mFalse\u001b[39;00m\n\u001b[1;32m    426\u001b[0m \u001b[39melse\u001b[39;00m:\n\u001b[0;32m--> 427\u001b[0m     fid \u001b[39m=\u001b[39m stack\u001b[39m.\u001b[39menter_context(\u001b[39mopen\u001b[39;49m(os_fspath(file), \u001b[39m\"\u001b[39;49m\u001b[39mrb\u001b[39;49m\u001b[39m\"\u001b[39;49m))\n\u001b[1;32m    428\u001b[0m     own_fid \u001b[39m=\u001b[39m \u001b[39mTrue\u001b[39;00m\n\u001b[1;32m    430\u001b[0m \u001b[39m# Code to distinguish from NumPy binary files and pickles.\u001b[39;00m\n",
      "\u001b[0;31mFileNotFoundError\u001b[0m: [Errno 2] No such file or directory: 'RC/Mervis_1975_similarity.npy'"
     ]
    }
   ],
   "source": [
    "import numpy as np\n",
    "import matplotlib.pyplot as plt\n",
    "\n",
    "data=np.load('RC/Mervis_1975_similarity.npy', allow_pickle=1).item()\n",
    "labels=data['labels']\n",
    "human_simmat = data['similarity']\n",
    "\n",
    "# Plot the human similarity matrix to take a look at the data\n",
    "plt.matshow(human_simmat)\n",
    "plt.colorbar()\n",
    "\n",
    "# Print out the labels to get to know the set of fruit concepts\n",
    "print(labels)"
   ]
  },
  {
   "cell_type": "markdown",
   "id": "72f04088-4a27-4800-877f-31737657e5d5",
   "metadata": {},
   "source": [
    "Note that the similarity judgments were collected on a scale of 1-4, so we normalize it to bring it into the 0-1 range. "
   ]
  },
  {
   "cell_type": "code",
   "execution_count": 4,
   "id": "dd629ad6-d366-4064-a9ce-b3fa0c0a44d5",
   "metadata": {},
   "outputs": [
    {
     "name": "stdout",
     "output_type": "stream",
     "text": [
      "['fruit', 'orange', 'apple', 'banana', 'peach', 'pear', 'apricot', 'plum', 'grapes', 'strawberry', 'grapefruit', 'pineapple', 'blueberry', 'watermelon', 'honeydew', 'pomegranate', 'date', 'coconut', 'tomato', 'olive', 'lemon']\n"
     ]
    },
    {
     "data": {
      "image/png": "[encoded data removed]",
      "text/plain": [
       "<Figure size 288x288 with 2 Axes>"
      ]
     },
     "metadata": {
      "needs_background": "light"
     },
     "output_type": "display_data"
    }
   ],
   "source": [
    "human_simmat=(human_simmat-1)/3\n",
    "# Plot the human similarity matrix to take a look at the data\n",
    "plt.matshow(human_simmat) #Note that only the colorbar range changed\n",
    "plt.colorbar()\n",
    "\n",
    "# Print out the labels to get to know the set of fruit concepts\n",
    "print(labels)"
   ]
  },
  {
   "cell_type": "markdown",
   "id": "90a0052f-d1ff-471e-af2a-073d5dd39a30",
   "metadata": {},
   "source": [
    "### Step 4B: Generating prompts\n",
    "It's important to note here that GPT3 and GPT3.5/4 (aka ChatGPT) have slightly different APIs. \n",
    "\n",
    "GPT3 uses the old Completions API: https://platform.openai.com/docs/api-reference/completions/object\n",
    "\n",
    "GPT3.5/4 use the new Chat API: https://platform.openai.com/docs/guides/gpt/function-calling\n",
    "\n",
    "In this tutorial, we will focus on the new Chat API. "
   ]
  },
  {
   "cell_type": "markdown",
   "id": "aa9dfa50-1e9c-4e5a-969d-7fb3f67e721f",
   "metadata": {},
   "source": [
    "In the Chat API, prompts take the form of a conversation between the user and the assistant. \n",
    "We encode this as a list of dicts where each dict is composed of a `role` and some `content`.\n",
    "For example:\n",
    "```\n",
    "messages=[\n",
    "        {\"role\": \"system\", \"content\": \"You are a helpful assistant.\"},\n",
    "        {\"role\": \"user\", \"content\": \"Who won the world series in 2020?\"},\n",
    "        {\"role\": \"assistant\", \"content\": \"The LA Dodgers won the World Series in 2020.\"},\n",
    "        {\"role\": \"user\", \"content\": \"Where was it played?\"}\n",
    "    ]\n",
    "```"
   ]
  },
  {
   "cell_type": "markdown",
   "id": "8ba2f45c-48af-4a92-bf96-abce2a081a7a",
   "metadata": {},
   "source": [
    "For this relatedness judgment experiment, we want to create a prompt that looks like the following:\n",
    "```\n",
    "\"\"\"\n",
    "How related are the two concepts on a scale of 0 (unrelated) to 1 (highly related)? Reply with a numerical rating and no other text.\n",
    "\n",
    "Concept 1: [FRUIT CONCEPT 1]\n",
    "\n",
    "Concept 2: [FRUIT CONCEPT 2]\n",
    "\n",
    "Rating:\n",
    "\"\"\"\n",
    "```"
   ]
  },
  {
   "cell_type": "code",
   "execution_count": 23,
   "id": "cdffccac-29fe-44a8-9bc7-274960ef6433",
   "metadata": {},
   "outputs": [
    {
     "name": "stdout",
     "output_type": "stream",
     "text": [
      "How related are the two concepts on a scale of 0 (unrelated) to 1 (highly related)? Reply with a numerical rating and no other text.\n",
      "Concept 1: fruit\n",
      "Concept 2: orange\n",
      "Rating:\n",
      "[{'role': 'user', 'content': 'How related are the two concepts on a scale of 0 (unrelated) to 1 (highly related)? Reply with a numerical rating and no other text.\\nConcept 1: fruit\\nConcept 2: orange\\nRating:'}]\n"
     ]
    }
   ],
   "source": [
    "# generate_chat_prompt will take as input a tuple of indices corresponding to concepts in `labels`\n",
    "def generate_prompt(current_pair):\n",
    "    prompt = f\"\"\"How related are the two concepts on a scale of 0 (unrelated) to 1 (highly related)? Reply with a numerical rating and no other text.\"\"\"\n",
    "    prompt += f'''\\nConcept 1: {labels[current_pair[0]]}\\nConcept 2: {labels[current_pair[1]]}\\nRating:'''\n",
    "    return prompt\n",
    "\n",
    "# Let's try an example\n",
    "current_pair=(0,1)\n",
    "prompt=generate_prompt(current_pair)\n",
    "print(prompt)\n",
    "messages=[{\"role\":\"user\", \"content\":prompt}]\n",
    "print(messages)"
   ]
  },
  {
   "cell_type": "markdown",
   "id": "1f209823-d64c-4cf4-85c1-4a97aca50c8d",
   "metadata": {},
   "source": [
    "## Step 5: Querying GPT\n",
    "Additional helpful details can be found in the OpenAI documentation: https://platform.openai.com/docs/api-reference"
   ]
  },
  {
   "cell_type": "markdown",
   "id": "6e56f2a0-5949-40e6-9033-ae81970ca79c",
   "metadata": {},
   "source": [
    "### Step 5A: Configuring GPT\n",
    "See https://platform.openai.com/docs/models/continuous-model-upgrades for list of models (note, you may not have access to GPT4 if the waitlist for it is still in place) and pick a model that uses the Chat API."
   ]
  },
  {
   "cell_type": "code",
   "execution_count": 20,
   "id": "bbce2a5c-9160-4cf0-9318-097d7f2cead7",
   "metadata": {},
   "outputs": [],
   "source": [
    "temperature = 1 # Higher temperature makes GPT more creative\n",
    "model = \"gpt-3.5-turbo\"\n",
    "seed = 1"
   ]
  },
  {
   "cell_type": "markdown",
   "id": "71174f34-5dd2-4c3c-ad13-0566fb14725a",
   "metadata": {},
   "source": [
    "### Step 5B: Querying GPT\n",
    "Getting a response from GPT is now as simple as running the following line of code:"
   ]
  },
  {
   "cell_type": "code",
   "execution_count": 14,
   "id": "0876d4ec-ffb2-4088-ae89-250bcf90375d",
   "metadata": {},
   "outputs": [
    {
     "name": "stdout",
     "output_type": "stream",
     "text": [
      "{\n",
      "  \"choices\": [\n",
      "    {\n",
      "      \"finish_reason\": \"stop\",\n",
      "      \"index\": 0,\n",
      "      \"message\": {\n",
      "        \"content\": \"1\",\n",
      "        \"role\": \"assistant\"\n",
      "      }\n",
      "    }\n",
      "  ],\n",
      "  \"created\": 1698336380,\n",
      "  \"id\": \"chatcmpl-8DxACaNIsr063S4uHgcYXLPePS9c1\",\n",
      "  \"model\": \"gpt-3.5-turbo-0613\",\n",
      "  \"object\": \"chat.completion\",\n",
      "  \"usage\": {\n",
      "    \"completion_tokens\": 1,\n",
      "    \"prompt_tokens\": 45,\n",
      "    \"total_tokens\": 46\n",
      "  }\n",
      "}\n"
     ]
    }
   ],
   "source": [
    "response = openai.ChatCompletion.create(\n",
    "                    model=model,\n",
    "                    messages=messages,\n",
    "                    temperature=temperature,\n",
    "                )\n",
    "print(response)"
   ]
  },
  {
   "cell_type": "markdown",
   "id": "a995e82e-f246-4b3a-9434-fe3a85dd0d3a",
   "metadata": {},
   "source": [
    "Note that the response is a JSON object. To parse out the actual content we care about, we run the following:"
   ]
  },
  {
   "cell_type": "code",
   "execution_count": 15,
   "id": "6610c66c-b682-42e2-81c9-6c933cf84148",
   "metadata": {},
   "outputs": [
    {
     "name": "stdout",
     "output_type": "stream",
     "text": [
      "1\n"
     ]
    }
   ],
   "source": [
    "choices = [dict(choice.items()) for choice in response.choices]\n",
    "choice=choices[0]['message']['content']\n",
    "print(choice)"
   ]
  },
  {
   "cell_type": "markdown",
   "id": "2da7d416-96da-4379-81ca-8322da902a3d",
   "metadata": {},
   "source": [
    "Finally, we note that the OpenAI API can sometimes timeout or throw other errors, so we add some error checking and create a loop that tries to query the API upto 5 times before giving up. "
   ]
  },
  {
   "cell_type": "code",
   "execution_count": 21,
   "id": "383828ef-cb66-461d-a2a3-69446675bf91",
   "metadata": {},
   "outputs": [],
   "source": [
    "def openai_chat_completion(messages, model, temperature):\n",
    "    response=False\n",
    "    i=0\n",
    "    while not response:\n",
    "        i+=1\n",
    "        try:\n",
    "                response = openai.ChatCompletion.create(\n",
    "                    model=model,\n",
    "                    messages=messages,\n",
    "                    temperature=temperature,\n",
    "                )\n",
    "        except Exception as e:\n",
    "            if i>=5: #if error persis after 5 attempts, give up\n",
    "                return False, False\n",
    "            if i>=4:\n",
    "                print(f'Attempt {i} failed: {e}')\n",
    "            elif i>=3: print(f'Attempt {i} failed.')\n",
    "            time.sleep(5) # wait before pinging the API again in case error is due to rate limit\n",
    "    choices = [dict(choice.items()) for choice in response.choices]\n",
    "    return choices, response.created"
   ]
  },
  {
   "cell_type": "markdown",
   "id": "1c5c6625-33f6-4474-88fd-3e66cc7183b2",
   "metadata": {},
   "source": [
    "### Step 5C: Running the experiment\n",
    "Now that we have all our code in place, we can just loop over our concepts, and assemple a GPT-based similarity matrix"
   ]
  },
  {
   "cell_type": "code",
   "execution_count": 27,
   "id": "c752a370-60f9-44d7-9c2c-badbab3187fe",
   "metadata": {},
   "outputs": [
    {
     "data": {
      "application/vnd.jupyter.widget-view+json": {
       "model_id": "b9d48988007b4fe089fd14ac6ad897df",
       "version_major": 2,
       "version_minor": 0
      },
      "text/plain": [
       "  0%|          | 0/21 [00:00<?, ?it/s]"
      ]
     },
     "metadata": {},
     "output_type": "display_data"
    },
    {
     "data": {
      "application/vnd.jupyter.widget-view+json": {
       "model_id": "f76098cc73c54b138731bbfac2741291",
       "version_major": 2,
       "version_minor": 0
      },
      "text/plain": [
       "Generating predictions 0/21:   0%|          | 0/21 [00:00<?, ?it/s]"
      ]
     },
     "metadata": {},
     "output_type": "display_data"
    },
    {
     "data": {
      "application/vnd.jupyter.widget-view+json": {
       "model_id": "fcd3228fc167400d92bc775114e1583b",
       "version_major": 2,
       "version_minor": 0
      },
      "text/plain": [
       "Generating predictions 1/21:   0%|          | 0/21 [00:00<?, ?it/s]"
      ]
     },
     "metadata": {},
     "output_type": "display_data"
    },
    {
     "data": {
      "application/vnd.jupyter.widget-view+json": {
       "model_id": "75ec66ae25d5434292347079db5ce984",
       "version_major": 2,
       "version_minor": 0
      },
      "text/plain": [
       "Generating predictions 2/21:   0%|          | 0/21 [00:00<?, ?it/s]"
      ]
     },
     "metadata": {},
     "output_type": "display_data"
    },
    {
     "data": {
      "application/vnd.jupyter.widget-view+json": {
       "model_id": "7c14d5b7ba064aaf9943ec36c7c9bf15",
       "version_major": 2,
       "version_minor": 0
      },
      "text/plain": [
       "Generating predictions 3/21:   0%|          | 0/21 [00:00<?, ?it/s]"
      ]
     },
     "metadata": {},
     "output_type": "display_data"
    },
    {
     "data": {
      "application/vnd.jupyter.widget-view+json": {
       "model_id": "2289b0e1bf9b46d0b654ba0a2016de68",
       "version_major": 2,
       "version_minor": 0
      },
      "text/plain": [
       "Generating predictions 4/21:   0%|          | 0/21 [00:00<?, ?it/s]"
      ]
     },
     "metadata": {},
     "output_type": "display_data"
    },
    {
     "data": {
      "application/vnd.jupyter.widget-view+json": {
       "model_id": "dbf1b4de6ccc468b99b5e8ec75d350a9",
       "version_major": 2,
       "version_minor": 0
      },
      "text/plain": [
       "Generating predictions 5/21:   0%|          | 0/21 [00:00<?, ?it/s]"
      ]
     },
     "metadata": {},
     "output_type": "display_data"
    },
    {
     "data": {
      "application/vnd.jupyter.widget-view+json": {
       "model_id": "460fb64b4e444a948b006a70f12bb8d0",
       "version_major": 2,
       "version_minor": 0
      },
      "text/plain": [
       "Generating predictions 6/21:   0%|          | 0/21 [00:00<?, ?it/s]"
      ]
     },
     "metadata": {},
     "output_type": "display_data"
    },
    {
     "data": {
      "application/vnd.jupyter.widget-view+json": {
       "model_id": "a51541d9cb064aa3837fbb1a6cdfb69d",
       "version_major": 2,
       "version_minor": 0
      },
      "text/plain": [
       "Generating predictions 7/21:   0%|          | 0/21 [00:00<?, ?it/s]"
      ]
     },
     "metadata": {},
     "output_type": "display_data"
    },
    {
     "data": {
      "application/vnd.jupyter.widget-view+json": {
       "model_id": "af7fe53da90e444885031f12c9947c43",
       "version_major": 2,
       "version_minor": 0
      },
      "text/plain": [
       "Generating predictions 8/21:   0%|          | 0/21 [00:00<?, ?it/s]"
      ]
     },
     "metadata": {},
     "output_type": "display_data"
    },
    {
     "data": {
      "application/vnd.jupyter.widget-view+json": {
       "model_id": "a4053c34feab4580b6b8f9b935eb582c",
       "version_major": 2,
       "version_minor": 0
      },
      "text/plain": [
       "Generating predictions 9/21:   0%|          | 0/21 [00:00<?, ?it/s]"
      ]
     },
     "metadata": {},
     "output_type": "display_data"
    },
    {
     "data": {
      "application/vnd.jupyter.widget-view+json": {
       "model_id": "d95b32247b184c07904f578afb84a56c",
       "version_major": 2,
       "version_minor": 0
      },
      "text/plain": [
       "Generating predictions 10/21:   0%|          | 0/21 [00:00<?, ?it/s]"
      ]
     },
     "metadata": {},
     "output_type": "display_data"
    },
    {
     "data": {
      "application/vnd.jupyter.widget-view+json": {
       "model_id": "b5f83b82a5964752978c4bd1deeb655a",
       "version_major": 2,
       "version_minor": 0
      },
      "text/plain": [
       "Generating predictions 11/21:   0%|          | 0/21 [00:00<?, ?it/s]"
      ]
     },
     "metadata": {},
     "output_type": "display_data"
    },
    {
     "data": {
      "application/vnd.jupyter.widget-view+json": {
       "model_id": "7678e2ac10614ffda7379db15dea5fc5",
       "version_major": 2,
       "version_minor": 0
      },
      "text/plain": [
       "Generating predictions 12/21:   0%|          | 0/21 [00:00<?, ?it/s]"
      ]
     },
     "metadata": {},
     "output_type": "display_data"
    },
    {
     "data": {
      "application/vnd.jupyter.widget-view+json": {
       "model_id": "490fdb4ed4aa4a9c8154f1a24f55f57a",
       "version_major": 2,
       "version_minor": 0
      },
      "text/plain": [
       "Generating predictions 13/21:   0%|          | 0/21 [00:00<?, ?it/s]"
      ]
     },
     "metadata": {},
     "output_type": "display_data"
    },
    {
     "data": {
      "application/vnd.jupyter.widget-view+json": {
       "model_id": "8ea2a7aded0d43a585b9aabebd35214d",
       "version_major": 2,
       "version_minor": 0
      },
      "text/plain": [
       "Generating predictions 14/21:   0%|          | 0/21 [00:00<?, ?it/s]"
      ]
     },
     "metadata": {},
     "output_type": "display_data"
    },
    {
     "data": {
      "application/vnd.jupyter.widget-view+json": {
       "model_id": "e064e8192e304cf593bfb56b0a2943d4",
       "version_major": 2,
       "version_minor": 0
      },
      "text/plain": [
       "Generating predictions 15/21:   0%|          | 0/21 [00:00<?, ?it/s]"
      ]
     },
     "metadata": {},
     "output_type": "display_data"
    },
    {
     "data": {
      "application/vnd.jupyter.widget-view+json": {
       "model_id": "d06614ec62a146519e468077b7d2810e",
       "version_major": 2,
       "version_minor": 0
      },
      "text/plain": [
       "Generating predictions 16/21:   0%|          | 0/21 [00:00<?, ?it/s]"
      ]
     },
     "metadata": {},
     "output_type": "display_data"
    },
    {
     "data": {
      "application/vnd.jupyter.widget-view+json": {
       "model_id": "2afd9f07f8cd433db23f800eee357e8b",
       "version_major": 2,
       "version_minor": 0
      },
      "text/plain": [
       "Generating predictions 17/21:   0%|          | 0/21 [00:00<?, ?it/s]"
      ]
     },
     "metadata": {},
     "output_type": "display_data"
    },
    {
     "data": {
      "application/vnd.jupyter.widget-view+json": {
       "model_id": "c5f8278f65484934a66ed0086b26bb30",
       "version_major": 2,
       "version_minor": 0
      },
      "text/plain": [
       "Generating predictions 18/21:   0%|          | 0/21 [00:00<?, ?it/s]"
      ]
     },
     "metadata": {},
     "output_type": "display_data"
    },
    {
     "data": {
      "application/vnd.jupyter.widget-view+json": {
       "model_id": "24c9b9ef8e244c568f2ab80179ccda38",
       "version_major": 2,
       "version_minor": 0
      },
      "text/plain": [
       "Generating predictions 19/21:   0%|          | 0/21 [00:00<?, ?it/s]"
      ]
     },
     "metadata": {},
     "output_type": "display_data"
    },
    {
     "data": {
      "application/vnd.jupyter.widget-view+json": {
       "model_id": "4cc14bd3fc7d4cc385b1b8992b6ee0a7",
       "version_major": 2,
       "version_minor": 0
      },
      "text/plain": [
       "Generating predictions 20/21:   0%|          | 0/21 [00:00<?, ?it/s]"
      ]
     },
     "metadata": {},
     "output_type": "display_data"
    }
   ],
   "source": [
    "from tqdm.notebook import tqdm # tqdm allows us to see progress of our for loops\n",
    "\n",
    "predicted_similarities = np.zeros((len(labels),len(labels)))\n",
    "visited_pairs=[]\n",
    "\n",
    "for idx1, bname1 in enumerate(tqdm(labels)):\n",
    "    for idx2, bname2 in enumerate(tqdm(labels,desc=f'Generating predictions {idx1}/{len(labels)}')):\n",
    "        \n",
    "        current_pair = (idx1, idx2)\n",
    "        \n",
    "        #We assume that the similarity matrix is symmetric which means we can skip entries from the lower triangle\n",
    "        if current_pair in visited_pairs:\n",
    "            # print(f'Already visited pair {current_pair}')\n",
    "            continue\n",
    "            \n",
    "            \n",
    "        prompt = generate_prompt(current_pair)\n",
    "        response=False\n",
    "        answer=False\n",
    "        attempt=0\n",
    "        while not answer:\n",
    "            attempt+=1\n",
    "            messages=[{'role':'user', 'content':prompt}]\n",
    "            choices,created=openai_chat_completion(messages, model, temperature)\n",
    "            try:\n",
    "                answer = choices[0]['message']['content'].strip().split()[0]\n",
    "                predicted_similarities[idx1, idx2] = float(answer)\n",
    "                predicted_similarities[idx2, idx1] = float(answer) # Because we assume the matrix is symmetric\n",
    "                if idx1 == idx2:\n",
    "                    visited_pairs.append((idx1, idx2))\n",
    "                else:\n",
    "                    visited_pairs.append((idx1, idx2))\n",
    "                    visited_pairs.append((idx2, idx1))\n",
    "            #In case we fail to parse out an answer 10 times in a row, we skip that entry\n",
    "            except Exception as e: \n",
    "                print(answer)\n",
    "                print(e)\n",
    "                answer=False\n",
    "                if attempt>10:\n",
    "                    print('Error', cache[key], e)\n",
    "\n",
    "\n",
    "#Create a directory where we will save the model predictions\n",
    "os.makedirs(f'RC/predictions/RC-fruits', exist_ok=True)\n",
    "\n",
    "# Save the model predictions\n",
    "np.save(f'RC/predictions/RC-fruits/RC-fruits-{model}-{temperature}-{seed}.npy', predicted_similarities)\n"
   ]
  },
  {
   "cell_type": "markdown",
   "id": "6d2f3059-500b-4a7c-ad15-467cdc21571b",
   "metadata": {},
   "source": [
    "Let's plot the GPT similarity matrix to see what we got."
   ]
  },
  {
   "cell_type": "code",
   "execution_count": 28,
   "id": "0c842aff-b75c-45d9-b3f9-720d04782791",
   "metadata": {},
   "outputs": [
    {
     "name": "stdout",
     "output_type": "stream",
     "text": [
      "['fruit', 'orange', 'apple', 'banana', 'peach', 'pear', 'apricot', 'plum', 'grapes', 'strawberry', 'grapefruit', 'pineapple', 'blueberry', 'watermelon', 'honeydew', 'pomegranate', 'date', 'coconut', 'tomato', 'olive', 'lemon']\n"
     ]
    },
    {
     "data": {
      "image/png": "[encoded data removed]",
      "text/plain": [
       "<Figure size 288x288 with 2 Axes>"
      ]
     },
     "metadata": {
      "needs_background": "light"
     },
     "output_type": "display_data"
    }
   ],
   "source": [
    "plt.matshow(predicted_similarities)\n",
    "plt.colorbar()\n",
    "\n",
    "# Print out the labels to get to know the set of fruit concepts\n",
    "print(labels)"
   ]
  },
  {
   "cell_type": "markdown",
   "id": "3953c3c8-b583-4311-87a5-15e9b8228d81",
   "metadata": {},
   "source": [
    "## Step 6: Analyze the data"
   ]
  },
  {
   "cell_type": "markdown",
   "id": "f23e38b8-8335-4ac6-9a36-c0f0ee6678ae",
   "metadata": {},
   "source": [
    "We will use MDS (Shepard, 1982) to visualize representational spaces."
   ]
  },
  {
   "cell_type": "code",
   "execution_count": 31,
   "id": "029d09c5-48e1-482b-b8ed-5d0cf4ef22b9",
   "metadata": {},
   "outputs": [],
   "source": [
    "from sklearn.manifold import MDS\n",
    "def compute_mds(dissimilarity, n_components=2, max_iter = 10000, eps = 1e-100, n_init = 50, verbose = 0, random_state = None):\n",
    "    embedding = MDS(n_components=n_components, metric = True, dissimilarity = \"precomputed\", max_iter = max_iter, eps = eps, verbose = verbose, n_init = n_init, random_state = random_state)\n",
    "    init = embedding.fit_transform(dissimilarity)\n",
    "    embedding = MDS(n_components=n_components, metric = False, dissimilarity = \"precomputed\", max_iter = max_iter, eps = eps, verbose = verbose, random_state = random_state)\n",
    "    transformed = embedding.fit_transform(dissimilarity, init = init)\n",
    "    return transformed"
   ]
  },
  {
   "cell_type": "markdown",
   "id": "8ebc1436-23ab-45d2-97ce-3676298790e8",
   "metadata": {},
   "source": [
    "First we visualize the human data:"
   ]
  },
  {
   "cell_type": "code",
   "execution_count": 32,
   "id": "3aa20749-2437-41d0-b75e-5a8f4ad555f0",
   "metadata": {},
   "outputs": [
    {
     "name": "stderr",
     "output_type": "stream",
     "text": [
      "/home/is2961/anaconda3/lib/python3.9/site-packages/sklearn/manifold/_mds.py:258: UserWarning: Explicit initial positions passed: performing only one init of the MDS instead of 4\n",
      "  warnings.warn(\n"
     ]
    },
    {
     "data": {
      "image/png": "[encoded data removed]",
      "text/plain": [
       "<Figure size 432x288 with 1 Axes>"
      ]
     },
     "metadata": {
      "needs_background": "light"
     },
     "output_type": "display_data"
    }
   ],
   "source": [
    "embeddings = compute_mds(1 - human_simmat)\n",
    "plt.scatter(embeddings[:,0], embeddings[:,1])\n",
    "\n",
    "for i, txt in enumerate(labels):\n",
    "    plt.annotate(txt, (embeddings[i,0], embeddings[i,1]), fontsize = 11)"
   ]
  },
  {
   "cell_type": "markdown",
   "id": "84ed8d83-ce18-4cfb-bb55-013f9477cb23",
   "metadata": {},
   "source": [
    "Then the GPT data:"
   ]
  },
  {
   "cell_type": "code",
   "execution_count": 33,
   "id": "356aaec4-55a6-42c0-a52a-efbbbcd2ddbc",
   "metadata": {},
   "outputs": [
    {
     "name": "stderr",
     "output_type": "stream",
     "text": [
      "/home/is2961/anaconda3/lib/python3.9/site-packages/sklearn/manifold/_mds.py:258: UserWarning: Explicit initial positions passed: performing only one init of the MDS instead of 4\n",
      "  warnings.warn(\n"
     ]
    },
    {
     "data": {
      "image/png": "[encoded data removed]",
      "text/plain": [
       "<Figure size 432x288 with 1 Axes>"
      ]
     },
     "metadata": {
      "needs_background": "light"
     },
     "output_type": "display_data"
    }
   ],
   "source": [
    "embeddings = compute_mds(1 - predicted_similarities)\n",
    "plt.scatter(embeddings[:,0], embeddings[:,1])\n",
    "\n",
    "for i, txt in enumerate(labels):\n",
    "    plt.annotate(txt, (embeddings[i,0], embeddings[i,1]), fontsize = 11)"
   ]
  },
  {
   "cell_type": "markdown",
   "id": "0b05c359-38f5-42be-a585-11d506f9fe86",
   "metadata": {},
   "source": [
    "Qualitatively, it seems like there are some similarities and some differences in how humans and GPT represent fruit concepts. Now we will run a quantitative analysis by measuring correlation between the two similarity matrices. Note that the matrices are symmetric so we want to only compare the upper triangles to avoid double counting. In addition, the diagonal for any similarity matrix should be all ones, so we exclude the diagonal from our correlation analysis as well."
   ]
  },
  {
   "cell_type": "code",
   "execution_count": 36,
   "id": "64995f0d-4ed1-46d9-a414-c14c1d7bbca8",
   "metadata": {},
   "outputs": [
    {
     "name": "stdout",
     "output_type": "stream",
     "text": [
      "0.7495713565993817\n"
     ]
    }
   ],
   "source": [
    "from scipy.spatial.distance import squareform\n",
    "v1 = squareform(human_simmat, checks = False) #Take the off-diagonal \n",
    "v2 = squareform(predicted_similarities, checks = False)\n",
    "print(np.corrcoef(v1,v2)[0][1])"
   ]
  },
  {
   "cell_type": "code",
   "execution_count": 37,
   "id": "3d8500ed-8e4a-4bcd-bc7e-ef23845d4f6c",
   "metadata": {},
   "outputs": [
    {
     "data": {
      "text/plain": [
       "<matplotlib.collections.PathCollection at 0x7ff9a1505130>"
      ]
     },
     "execution_count": 37,
     "metadata": {},
     "output_type": "execute_result"
    },
    {
     "data": {
      "image/png": "[encoded data removed]",
      "text/plain": [
       "<Figure size 432x288 with 1 Axes>"
      ]
     },
     "metadata": {
      "needs_background": "light"
     },
     "output_type": "display_data"
    }
   ],
   "source": [
    "plt.scatter(v1,v2)"
   ]
  }
 ],
 "metadata": {
  "kernelspec": {
   "display_name": "Python 3 (ipykernel)",
   "language": "python",
   "name": "python3"
  },
  "language_info": {
   "codemirror_mode": {
    "name": "ipython",
    "version": 3
   },
   "file_extension": ".py",
   "mimetype": "text/x-python",
   "name": "python",
   "nbconvert_exporter": "python",
   "pygments_lexer": "ipython3",
   "version": "3.11.5"
  }
 },
 "nbformat": 4,
 "nbformat_minor": 5
}
